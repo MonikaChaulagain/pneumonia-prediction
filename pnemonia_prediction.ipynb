{
 "cells": [
  {
   "cell_type": "code",
   "execution_count": 2,
   "id": "ca592ff0",
   "metadata": {},
   "outputs": [
    {
     "name": "stdout",
     "output_type": "stream",
     "text": [
      "['best_resnet_pneumonia.pth', 'chestXray', 'pnemonia_prediction.ipynb', 'resnet_pneumonia.pth', 'runs']\n"
     ]
    }
   ],
   "source": [
    "#\tPneumonia detection from X-rays\tCNN + preprocessing\tChest X-ray dataset\n",
    "#🔥 Bonus: Use Grad-CAM or saliency maps for interpretability.\n",
    "import os\n",
    "print(os.listdir()) "
   ]
  },
  {
   "cell_type": "code",
   "execution_count": 3,
   "id": "1e64c1c0",
   "metadata": {},
   "outputs": [],
   "source": [
    "import torch \n",
    "import torch.nn as nn\n",
    "import torch.optim as optim\n",
    "from torch.utils.data import DataLoader,Subset\n",
    "import torchvision\n",
    "from torchvision import transforms,datasets,models\n",
    "from tqdm import tqdm\n",
    "from torch.utils.tensorboard import SummaryWriter\n",
    "from sklearn.model_selection import train_test_split\n",
    "from sklearn.utils.class_weight import compute_class_weight\n",
    "import numpy as np\n",
    "from collections import Counter"
   ]
  },
  {
   "cell_type": "code",
   "execution_count": 4,
   "id": "dba2838c",
   "metadata": {},
   "outputs": [],
   "source": [
    "datadir='chestXray/chest_xray/train'"
   ]
  },
  {
   "cell_type": "code",
   "execution_count": 5,
   "id": "f8aeaefd",
   "metadata": {},
   "outputs": [],
   "source": [
    "train_transform = transforms.Compose([\n",
    "    transforms.RandomResizedCrop(224, scale=(0.8, 1.0), ratio=(0.9, 1.1)),\n",
    "    transforms.RandomAffine(degrees=10, translate=(0.1, 0.1), scale=(0.9, 1.1)),\n",
    "    transforms.RandomHorizontalFlip(),\n",
    "    transforms.RandomRotation(15),\n",
    "    transforms.Grayscale(num_output_channels=3),  # Convert to 3-channel\n",
    "    transforms.ToTensor(),\n",
    "    transforms.Normalize([0.485, 0.456, 0.406],\n",
    "                         [0.229, 0.224, 0.225])\n",
    "])\n",
    "val_test_transform = transforms.Compose([\n",
    "    transforms.Resize((224, 224)),\n",
    "    transforms.Grayscale(num_output_channels=3),\n",
    "    transforms.ToTensor(),\n",
    "    transforms.Normalize([0.485, 0.456, 0.406],\n",
    "                         [0.229, 0.224, 0.225])\n",
    "])\n",
    "full_dataset_for_split = datasets.ImageFolder(root=datadir, transform=val_test_transform)\n"
   ]
  },
  {
   "cell_type": "code",
   "execution_count": 6,
   "id": "12664332",
   "metadata": {},
   "outputs": [],
   "source": [
    "train_idx, val_idx = train_test_split(\n",
    "    list(range(len(full_dataset_for_split))),\n",
    "    test_size=0.2,\n",
    "    stratify=[label for _, label in full_dataset_for_split],  # stratify to maintain class balance\n",
    "    random_state=42\n",
    ")\n",
    "\n",
    "train_dataset = Subset(\n",
    "    datasets.ImageFolder(root=datadir, transform=train_transform),\n",
    "    train_idx\n",
    ")\n",
    "val_dataset = Subset(full_dataset_for_split, val_idx)\n",
    "train_loader = DataLoader(train_dataset, batch_size=64, shuffle=True)\n",
    "val_loader = DataLoader(val_dataset, batch_size=64, shuffle=False)\n",
    "\n",
    "test_dataset=datasets.ImageFolder('chestXray/chest_xray/test',transform=val_test_transform)\n",
    "test_loader=DataLoader(test_dataset,batch_size=64,shuffle=False)"
   ]
  },
  {
   "cell_type": "code",
   "execution_count": null,
   "id": "dfdc03d4",
   "metadata": {},
   "outputs": [],
   "source": [
    "# train_transform=transforms.Compose([transforms.RandomResizedCrop(224, scale=(0.8, 1.0), ratio=(0.9, 1.1)),\n",
    "#                                     transforms.RandomAffine(degrees=10, translate=(0.1, 0.1), scale=(0.9, 1.1)),\n",
    "#                                     transforms.RandomHorizontalFlip(),\n",
    "#                                     transforms.RandomRotation(15),\n",
    "#                                     transforms.ToTensor(),\n",
    "#                                     transforms.Normalize([0.485,0.456,0.406],[0.229,0.224,0.225])\n",
    "#                                     ])\n",
    "# test_transform=transforms.Compose([transforms.Resize((224,224)),\n",
    "#                                    transforms.Grayscale(num_output_channels=3),\n",
    "#                                     transforms.ToTensor(),\n",
    "#                                     transforms.Normalize([0.485,0.456,0.406],\n",
    "#                                                          [0.229,0.224,0.225])\n",
    "#                                                          ])\n",
    "# train_dataset=datasets.ImageFolder('chestXray/chest_xray/train',transform=train_transform)\n",
    "# train_loader=DataLoader(train_dataset,batch_size=64,shuffle=True)\n",
    "\n",
    "# val_dataset   = datasets.ImageFolder('chestXray/chest_xray/val', transform=test_transform)\n",
    "# val_loader = DataLoader(val_dataset, batch_size=64, shuffle=False)"
   ]
  },
  {
   "cell_type": "code",
   "execution_count": 7,
   "id": "8bc6a3f0",
   "metadata": {},
   "outputs": [],
   "source": [
    "writer=SummaryWriter(\"runs/pneumonia_resnet\")\n",
    "\n",
    "#data_dir=\"chestXray/chest_xray\""
   ]
  },
  {
   "cell_type": "code",
   "execution_count": null,
   "id": "039e1b7f",
   "metadata": {},
   "outputs": [],
   "source": []
  },
  {
   "cell_type": "code",
   "execution_count": 8,
   "id": "44f41833",
   "metadata": {},
   "outputs": [],
   "source": [
    "# val_labels = [label for _, label in val_dataset]\n",
    "# Counter(val_labels), len(val_labels)\n"
   ]
  },
  {
   "cell_type": "code",
   "execution_count": 9,
   "id": "b22adf09",
   "metadata": {},
   "outputs": [
    {
     "name": "stderr",
     "output_type": "stream",
     "text": [
      "c:\\Users\\LENOVO\\Documents\\pytorch\\venvtorch\\Lib\\site-packages\\torchvision\\models\\_utils.py:208: UserWarning: The parameter 'pretrained' is deprecated since 0.13 and may be removed in the future, please use 'weights' instead.\n",
      "  warnings.warn(\n",
      "c:\\Users\\LENOVO\\Documents\\pytorch\\venvtorch\\Lib\\site-packages\\torchvision\\models\\_utils.py:223: UserWarning: Arguments other than a weight enum or `None` for 'weights' are deprecated since 0.13 and may be removed in the future. The current behavior is equivalent to passing `weights=ResNet18_Weights.IMAGENET1K_V1`. You can also use `weights=ResNet18_Weights.DEFAULT` to get the most up-to-date weights.\n",
      "  warnings.warn(msg)\n"
     ]
    },
    {
     "name": "stdout",
     "output_type": "stream",
     "text": [
      "512\n"
     ]
    }
   ],
   "source": [
    "model=models.resnet18(pretrained=True)\n",
    "num_features=model.fc.in_features\n",
    "print(num_features)\n",
    "model.fc = nn.Sequential(\n",
    "    nn.Dropout(0.5),\n",
    "    nn.Linear(num_features, 2)\n",
    ")\n",
    "\n"
   ]
  },
  {
   "cell_type": "code",
   "execution_count": 10,
   "id": "546b8991",
   "metadata": {},
   "outputs": [],
   "source": [
    "\n",
    "\n",
    "# Get training labels properly from the Subset\n",
    "train_labels = [train_dataset.dataset.targets[i] for i in train_dataset.indices]\n",
    "train_labels_np = np.array(train_labels)\n",
    "\n",
    "# Compute class weights\n",
    "class_weights = compute_class_weight(class_weight='balanced', classes=np.unique(train_labels_np), y=train_labels_np)\n",
    "class_weights = torch.tensor(class_weights, dtype=torch.float)\n",
    "\n",
    "criterion=nn.CrossEntropyLoss(weight=class_weights)\n",
    "optimizer=optim.Adam(model.parameters(),lr=1e-4,weight_decay=1e-5)\n"
   ]
  },
  {
   "cell_type": "code",
   "execution_count": 11,
   "id": "7ed47d82",
   "metadata": {},
   "outputs": [],
   "source": [
    "scheduler = optim.lr_scheduler.ReduceLROnPlateau(optimizer, mode='min', factor=0.1, patience=3)\n",
    "best_val_loss = float('inf')\n",
    "early_stop_counter = 0\n",
    "early_stop_patience = 5"
   ]
  },
  {
   "cell_type": "code",
   "execution_count": 12,
   "id": "5c5764b5",
   "metadata": {},
   "outputs": [
    {
     "name": "stderr",
     "output_type": "stream",
     "text": [
      "Epoch[1]: 100%|██████████| 66/66 [04:22<00:00,  3.98s/it, accuracy=90.7, loss=0.00778]\n"
     ]
    },
    {
     "name": "stdout",
     "output_type": "stream",
     "text": [
      "epoch1:Train Acc:90.74784276126557% ,val Acc:89.55938697318008,Train loss:0.20278911052666831,val loss:0.2058147099964759\n",
      "Validation loss decreased, saving model.\n"
     ]
    },
    {
     "name": "stderr",
     "output_type": "stream",
     "text": [
      "Epoch[2]: 100%|██████████| 66/66 [04:31<00:00,  4.11s/it, accuracy=95.8, loss=0.158] \n"
     ]
    },
    {
     "name": "stdout",
     "output_type": "stream",
     "text": [
      "epoch2:Train Acc:95.80536912751678% ,val Acc:93.5823754789272,Train loss:0.11657510316846045,val loss:0.12979807573206284\n",
      "Validation loss decreased, saving model.\n"
     ]
    },
    {
     "name": "stderr",
     "output_type": "stream",
     "text": [
      "Epoch[3]: 100%|██████████| 66/66 [03:57<00:00,  3.61s/it, accuracy=96.7, loss=0.04]  \n"
     ]
    },
    {
     "name": "stdout",
     "output_type": "stream",
     "text": [
      "epoch3:Train Acc:96.74017257909875% ,val Acc:96.93486590038314,Train loss:0.08797553730564135,val loss:0.06878316029906273\n",
      "Validation loss decreased, saving model.\n"
     ]
    },
    {
     "name": "stderr",
     "output_type": "stream",
     "text": [
      "Epoch[4]: 100%|██████████| 66/66 [03:57<00:00,  3.60s/it, accuracy=97, loss=0.261]   \n"
     ]
    },
    {
     "name": "stdout",
     "output_type": "stream",
     "text": [
      "epoch4:Train Acc:97.02780441035475% ,val Acc:96.36015325670498,Train loss:0.08440895652342023,val loss:0.07733506429940462\n"
     ]
    },
    {
     "name": "stderr",
     "output_type": "stream",
     "text": [
      "Epoch[5]: 100%|██████████| 66/66 [03:57<00:00,  3.60s/it, accuracy=97.7, loss=0.0973] \n"
     ]
    },
    {
     "name": "stdout",
     "output_type": "stream",
     "text": [
      "epoch5:Train Acc:97.69894534995206% ,val Acc:95.11494252873563,Train loss:0.08158659854565155,val loss:0.09457521710325689\n"
     ]
    },
    {
     "name": "stderr",
     "output_type": "stream",
     "text": [
      "Epoch[6]: 100%|██████████| 66/66 [03:57<00:00,  3.60s/it, accuracy=97.7, loss=0.00154]\n"
     ]
    },
    {
     "name": "stdout",
     "output_type": "stream",
     "text": [
      "epoch6:Train Acc:97.69894534995206% ,val Acc:96.0727969348659,Train loss:0.059104024811831274,val loss:0.06734361288630787\n",
      "Validation loss decreased, saving model.\n"
     ]
    },
    {
     "name": "stderr",
     "output_type": "stream",
     "text": [
      "Epoch[7]: 100%|██████████| 66/66 [04:29<00:00,  4.08s/it, accuracy=97.8, loss=0.0457] \n"
     ]
    },
    {
     "name": "stdout",
     "output_type": "stream",
     "text": [
      "epoch7:Train Acc:97.79482262703739% ,val Acc:97.31800766283524,Train loss:0.05663711746985262,val loss:0.05671070340801688\n",
      "Validation loss decreased, saving model.\n"
     ]
    },
    {
     "name": "stderr",
     "output_type": "stream",
     "text": [
      "Epoch[8]: 100%|██████████| 66/66 [04:27<00:00,  4.05s/it, accuracy=98.3, loss=0.000703]\n"
     ]
    },
    {
     "name": "stdout",
     "output_type": "stream",
     "text": [
      "epoch8:Train Acc:98.29817833173537% ,val Acc:97.60536398467433,Train loss:0.0469448417433975,val loss:0.05553878068595248\n",
      "Validation loss decreased, saving model.\n"
     ]
    },
    {
     "name": "stderr",
     "output_type": "stream",
     "text": [
      "Epoch[9]: 100%|██████████| 66/66 [04:20<00:00,  3.94s/it, accuracy=98.3, loss=0.0152] \n"
     ]
    },
    {
     "name": "stdout",
     "output_type": "stream",
     "text": [
      "epoch9:Train Acc:98.25023969319271% ,val Acc:97.31800766283524,Train loss:0.04728339429041653,val loss:0.06817099117838285\n"
     ]
    },
    {
     "name": "stderr",
     "output_type": "stream",
     "text": [
      "Epoch[10]: 100%|██████████| 66/66 [03:59<00:00,  3.62s/it, accuracy=98.1, loss=0.153]  \n"
     ]
    },
    {
     "name": "stdout",
     "output_type": "stream",
     "text": [
      "epoch10:Train Acc:98.13039309683604% ,val Acc:95.30651340996168,Train loss:0.048219459649937395,val loss:0.09799995539052521\n"
     ]
    },
    {
     "name": "stderr",
     "output_type": "stream",
     "text": [
      "Epoch[11]:  20%|█▉        | 13/66 [01:10<04:49,  5.46s/it, accuracy=98.6, loss=0.139] \n"
     ]
    },
    {
     "ename": "KeyboardInterrupt",
     "evalue": "",
     "output_type": "error",
     "traceback": [
      "\u001b[31m---------------------------------------------------------------------------\u001b[39m",
      "\u001b[31mKeyboardInterrupt\u001b[39m                         Traceback (most recent call last)",
      "\u001b[36mCell\u001b[39m\u001b[36m \u001b[39m\u001b[32mIn[12]\u001b[39m\u001b[32m, line 13\u001b[39m\n\u001b[32m     11\u001b[39m optimizer.zero_grad()\n\u001b[32m     12\u001b[39m loss=criterion(outputs,labels)\n\u001b[32m---> \u001b[39m\u001b[32m13\u001b[39m \u001b[43mloss\u001b[49m\u001b[43m.\u001b[49m\u001b[43mbackward\u001b[49m\u001b[43m(\u001b[49m\u001b[43m)\u001b[49m\n\u001b[32m     14\u001b[39m optimizer.step()\n\u001b[32m     16\u001b[39m running_loss+=loss.item()\n",
      "\u001b[36mFile \u001b[39m\u001b[32mc:\\Users\\LENOVO\\Documents\\pytorch\\venvtorch\\Lib\\site-packages\\torch\\_tensor.py:648\u001b[39m, in \u001b[36mTensor.backward\u001b[39m\u001b[34m(self, gradient, retain_graph, create_graph, inputs)\u001b[39m\n\u001b[32m    638\u001b[39m \u001b[38;5;28;01mif\u001b[39;00m has_torch_function_unary(\u001b[38;5;28mself\u001b[39m):\n\u001b[32m    639\u001b[39m     \u001b[38;5;28;01mreturn\u001b[39;00m handle_torch_function(\n\u001b[32m    640\u001b[39m         Tensor.backward,\n\u001b[32m    641\u001b[39m         (\u001b[38;5;28mself\u001b[39m,),\n\u001b[32m   (...)\u001b[39m\u001b[32m    646\u001b[39m         inputs=inputs,\n\u001b[32m    647\u001b[39m     )\n\u001b[32m--> \u001b[39m\u001b[32m648\u001b[39m \u001b[43mtorch\u001b[49m\u001b[43m.\u001b[49m\u001b[43mautograd\u001b[49m\u001b[43m.\u001b[49m\u001b[43mbackward\u001b[49m\u001b[43m(\u001b[49m\n\u001b[32m    649\u001b[39m \u001b[43m    \u001b[49m\u001b[38;5;28;43mself\u001b[39;49m\u001b[43m,\u001b[49m\u001b[43m \u001b[49m\u001b[43mgradient\u001b[49m\u001b[43m,\u001b[49m\u001b[43m \u001b[49m\u001b[43mretain_graph\u001b[49m\u001b[43m,\u001b[49m\u001b[43m \u001b[49m\u001b[43mcreate_graph\u001b[49m\u001b[43m,\u001b[49m\u001b[43m \u001b[49m\u001b[43minputs\u001b[49m\u001b[43m=\u001b[49m\u001b[43minputs\u001b[49m\n\u001b[32m    650\u001b[39m \u001b[43m\u001b[49m\u001b[43m)\u001b[49m\n",
      "\u001b[36mFile \u001b[39m\u001b[32mc:\\Users\\LENOVO\\Documents\\pytorch\\venvtorch\\Lib\\site-packages\\torch\\autograd\\__init__.py:353\u001b[39m, in \u001b[36mbackward\u001b[39m\u001b[34m(tensors, grad_tensors, retain_graph, create_graph, grad_variables, inputs)\u001b[39m\n\u001b[32m    348\u001b[39m     retain_graph = create_graph\n\u001b[32m    350\u001b[39m \u001b[38;5;66;03m# The reason we repeat the same comment below is that\u001b[39;00m\n\u001b[32m    351\u001b[39m \u001b[38;5;66;03m# some Python versions print out the first line of a multi-line function\u001b[39;00m\n\u001b[32m    352\u001b[39m \u001b[38;5;66;03m# calls in the traceback and some print out the last line\u001b[39;00m\n\u001b[32m--> \u001b[39m\u001b[32m353\u001b[39m \u001b[43m_engine_run_backward\u001b[49m\u001b[43m(\u001b[49m\n\u001b[32m    354\u001b[39m \u001b[43m    \u001b[49m\u001b[43mtensors\u001b[49m\u001b[43m,\u001b[49m\n\u001b[32m    355\u001b[39m \u001b[43m    \u001b[49m\u001b[43mgrad_tensors_\u001b[49m\u001b[43m,\u001b[49m\n\u001b[32m    356\u001b[39m \u001b[43m    \u001b[49m\u001b[43mretain_graph\u001b[49m\u001b[43m,\u001b[49m\n\u001b[32m    357\u001b[39m \u001b[43m    \u001b[49m\u001b[43mcreate_graph\u001b[49m\u001b[43m,\u001b[49m\n\u001b[32m    358\u001b[39m \u001b[43m    \u001b[49m\u001b[43minputs\u001b[49m\u001b[43m,\u001b[49m\n\u001b[32m    359\u001b[39m \u001b[43m    \u001b[49m\u001b[43mallow_unreachable\u001b[49m\u001b[43m=\u001b[49m\u001b[38;5;28;43;01mTrue\u001b[39;49;00m\u001b[43m,\u001b[49m\n\u001b[32m    360\u001b[39m \u001b[43m    \u001b[49m\u001b[43maccumulate_grad\u001b[49m\u001b[43m=\u001b[49m\u001b[38;5;28;43;01mTrue\u001b[39;49;00m\u001b[43m,\u001b[49m\n\u001b[32m    361\u001b[39m \u001b[43m\u001b[49m\u001b[43m)\u001b[49m\n",
      "\u001b[36mFile \u001b[39m\u001b[32mc:\\Users\\LENOVO\\Documents\\pytorch\\venvtorch\\Lib\\site-packages\\torch\\autograd\\graph.py:824\u001b[39m, in \u001b[36m_engine_run_backward\u001b[39m\u001b[34m(t_outputs, *args, **kwargs)\u001b[39m\n\u001b[32m    822\u001b[39m     unregister_hooks = _register_logging_hooks_on_whole_graph(t_outputs)\n\u001b[32m    823\u001b[39m \u001b[38;5;28;01mtry\u001b[39;00m:\n\u001b[32m--> \u001b[39m\u001b[32m824\u001b[39m     \u001b[38;5;28;01mreturn\u001b[39;00m \u001b[43mVariable\u001b[49m\u001b[43m.\u001b[49m\u001b[43m_execution_engine\u001b[49m\u001b[43m.\u001b[49m\u001b[43mrun_backward\u001b[49m\u001b[43m(\u001b[49m\u001b[43m  \u001b[49m\u001b[38;5;66;43;03m# Calls into the C++ engine to run the backward pass\u001b[39;49;00m\n\u001b[32m    825\u001b[39m \u001b[43m        \u001b[49m\u001b[43mt_outputs\u001b[49m\u001b[43m,\u001b[49m\u001b[43m \u001b[49m\u001b[43m*\u001b[49m\u001b[43margs\u001b[49m\u001b[43m,\u001b[49m\u001b[43m \u001b[49m\u001b[43m*\u001b[49m\u001b[43m*\u001b[49m\u001b[43mkwargs\u001b[49m\n\u001b[32m    826\u001b[39m \u001b[43m    \u001b[49m\u001b[43m)\u001b[49m  \u001b[38;5;66;03m# Calls into the C++ engine to run the backward pass\u001b[39;00m\n\u001b[32m    827\u001b[39m \u001b[38;5;28;01mfinally\u001b[39;00m:\n\u001b[32m    828\u001b[39m     \u001b[38;5;28;01mif\u001b[39;00m attach_logging_hooks:\n",
      "\u001b[31mKeyboardInterrupt\u001b[39m: "
     ]
    }
   ],
   "source": [
    "no_epochs=30\n",
    "\n",
    "for epochs in range(no_epochs):\n",
    "    model.train()\n",
    "    running_loss=0.0\n",
    "    correct=0.0\n",
    "    total=0.0\n",
    "    loop=tqdm(train_loader,desc=f\"Epoch[{epochs+1}]\")  \n",
    "    for images,labels in loop:\n",
    "        outputs=model(images)\n",
    "        optimizer.zero_grad()\n",
    "        loss=criterion(outputs,labels)\n",
    "        loss.backward()\n",
    "        optimizer.step()\n",
    "\n",
    "        running_loss+=loss.item()\n",
    "\n",
    "        _,predicted=outputs.max(1)\n",
    "        total+=labels.size(0)\n",
    "        correct+=(predicted==labels).sum().item()\n",
    "\n",
    "        loop.set_postfix(loss=loss.item(),accuracy=100*correct/total)\n",
    "    train_loss = running_loss / len(train_loader)\n",
    "    train_acc=100*correct/total\n",
    "    writer.add_scalar(\"loss/train\",running_loss/len(train_loader),epochs)\n",
    "    writer.add_scalar('accuracy/train',train_acc,epochs)\n",
    "\n",
    "    model.eval()\n",
    "    val_loss=0.0\n",
    "    val_correct=0\n",
    "    val_total=0\n",
    "\n",
    "    with torch.no_grad():\n",
    "        for images,labels in val_loader:\n",
    "            outputs=model(images)\n",
    "            loss=criterion(outputs,labels)\n",
    "\n",
    "            val_loss+=loss.item()\n",
    "            _,predicted=outputs.max(1)\n",
    "            val_total+=labels.size(0)\n",
    "            val_correct+=(predicted==labels).sum().item()\n",
    "        val_loss /= len(val_loader)\n",
    "        val_accuracy=100*val_correct/val_total\n",
    "        writer.add_scalar(\"loss/val\",val_loss/len(val_loader),epochs)\n",
    "        writer.add_scalar(\"accuracy/val\",val_accuracy,epochs)\n",
    "\n",
    "        print(f\"epoch{epochs+1}:Train Acc:{train_acc}% ,val Acc:{val_accuracy},Train loss:{train_loss},val loss:{val_loss}\")\n",
    "        if val_loss < best_val_loss:\n",
    "            best_val_loss = val_loss\n",
    "            torch.save(model.state_dict(), 'best_resnet_pneumonia.pth')\n",
    "            early_stop_counter = 0\n",
    "            print(\"Validation loss decreased, saving model.\")\n",
    "        else:\n",
    "            early_stop_counter += 1\n",
    "            if early_stop_counter >= early_stop_patience:\n",
    "                print(\"Early stopping triggered.\")\n",
    "                break\n",
    "\n",
    "\n",
    "\n"
   ]
  },
  {
   "cell_type": "code",
   "execution_count": 14,
   "id": "4716a835",
   "metadata": {},
   "outputs": [
    {
     "name": "stdout",
     "output_type": "stream",
     "text": [
      "Test Loss: 0.22756539536640047, Test Accuracy: 93.42948717948718\n"
     ]
    }
   ],
   "source": [
    "model.eval() \n",
    "correct = 0\n",
    "total = 0\n",
    "\n",
    "with torch.no_grad():\n",
    "    test_loss=0\n",
    "    for inputs, labels in test_loader:\n",
    "        outputs = model(inputs)\n",
    "        loss = criterion(outputs, labels)\n",
    "        test_loss += loss.item()\n",
    "        \n",
    "        _, predicted = torch.max(outputs, 1)\n",
    "        correct += (predicted == labels).sum().item()\n",
    "        total += labels.size(0)\n",
    "\n",
    "avg_test_loss = test_loss / len(test_loader)\n",
    "test_accuracy =100*correct / total\n",
    "\n",
    "print(f\"Test Loss: {avg_test_loss}, Test Accuracy: {test_accuracy}\")\n"
   ]
  },
  {
   "cell_type": "code",
   "execution_count": 28,
   "id": "11141575",
   "metadata": {},
   "outputs": [],
   "source": [
    "# import matplotlib.pyplot as plt\n",
    "\n",
    "# # Show some test images\n",
    "# for images, labels in test_loader:\n",
    "#     for i in range(5):\n",
    "#         img = images[i].permute(1,2,0).numpy()\n",
    "#         img = img * [0.229, 0.224, 0.225] + [0.485, 0.456, 0.406]  # unnormalize\n",
    "#         plt.imshow(img)\n",
    "#         plt.title(f\"Label: {labels[i]}\")\n",
    "#         plt.show()\n",
    "#     break\n"
   ]
  },
  {
   "cell_type": "code",
   "execution_count": 27,
   "id": "5a03b6b3",
   "metadata": {},
   "outputs": [],
   "source": [
    "# import matplotlib.pyplot as plt\n",
    "\n",
    "# # Show some test images\n",
    "# for images, labels in train_loader:\n",
    "#     for i in range(5):\n",
    "#         img = images[i].permute(1,2,0).numpy()\n",
    "#         img = img * [0.229, 0.224, 0.225] + [0.485, 0.456, 0.406]  # unnormalize\n",
    "#         plt.imshow(img)\n",
    "#         plt.title(f\"Label: {labels[i]}\")\n",
    "#         plt.show()\n",
    "#     break\n"
   ]
  },
  {
   "cell_type": "code",
   "execution_count": 26,
   "id": "547e1195",
   "metadata": {},
   "outputs": [
    {
     "name": "stdout",
     "output_type": "stream",
     "text": [
      "Train class distribution: Counter({1: 3099, 0: 1073})\n",
      "Test class distribution: Counter({1: 390, 0: 234})\n"
     ]
    }
   ],
   "source": [
    "from collections import Counter\n",
    "\n",
    "# Access the labels using indices from the Subset\n",
    "train_labels = [train_dataset.dataset.targets[i] for i in train_dataset.indices]\n",
    "test_labels = [test_dataset.targets[i] for i in range(len(test_dataset))]\n",
    "\n",
    "print(\"Train class distribution:\", Counter(train_labels))\n",
    "print(\"Test class distribution:\", Counter(test_labels))\n"
   ]
  }
 ],
 "metadata": {
  "kernelspec": {
   "display_name": "venvtorch (3.13.5)",
   "language": "python",
   "name": "python3"
  },
  "language_info": {
   "codemirror_mode": {
    "name": "ipython",
    "version": 3
   },
   "file_extension": ".py",
   "mimetype": "text/x-python",
   "name": "python",
   "nbconvert_exporter": "python",
   "pygments_lexer": "ipython3",
   "version": "3.13.5"
  }
 },
 "nbformat": 4,
 "nbformat_minor": 5
}
